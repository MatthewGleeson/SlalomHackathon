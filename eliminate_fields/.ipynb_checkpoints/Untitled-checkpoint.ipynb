{
 "cells": [
  {
   "cell_type": "code",
   "execution_count": null,
   "metadata": {},
   "outputs": [],
   "source": [
    "import pandas as pd\n",
    "import json\n",
    "\n",
    "import math\n",
    "\n",
    "\n",
    "def reorderMyDataFrame(dataframe):\n",
    "    hoursDict = {}\n",
    "    \n",
    "    dataframe['HOURS']\n",
    "    \n",
    "    hoursDict.update(\n",
    "    \n",
    "    dataframe['HOURS']\n",
    "\n",
    "\n",
    "wordFreqDic.update( {'before' : 23} )\n"
   ]
  }
 ],
 "metadata": {
  "kernelspec": {
   "display_name": "Python 3",
   "language": "python",
   "name": "python3"
  },
  "language_info": {
   "codemirror_mode": {
    "name": "ipython",
    "version": 3
   },
   "file_extension": ".py",
   "mimetype": "text/x-python",
   "name": "python",
   "nbconvert_exporter": "python",
   "pygments_lexer": "ipython3",
   "version": "3.6.0"
  }
 },
 "nbformat": 4,
 "nbformat_minor": 2
}
