{
 "cells": [
  {
   "cell_type": "code",
   "execution_count": 12,
   "metadata": {},
   "outputs": [
    {
     "name": "stdout",
     "output_type": "stream",
     "text": [
      "<class 'str'>\n",
      "{'opens_at': '00:00', 'closes_at': '24:00'}\n",
      "<class 'dict'>\n"
     ]
    }
   ],
   "source": [
    "import pandas as pd\n",
    "import json\n",
    "\n",
    "import math\n",
    "\n",
    "\n",
    "import ast\n",
    "\n",
    "def reorderMyDataFrame(dataframe):\n",
    "    hoursDict = {}\n",
    "    \n",
    "    print(type(dataframe['HOURS'].iloc[0]))\n",
    "    #ast.literal_eval(json_data)\n",
    "    a = ast.literal_eval(dataframe['HOURS'].iloc[0])\n",
    "    \n",
    "    print(a['hours']['monday'])\n",
    "    \n",
    "    \n",
    "    \n",
    "    print(type(a))\n",
    "    \n",
    "    #d = json.loads(a)\n",
    "    #print(d)\n",
    "    #hoursDict.update(\n",
    "    \n",
    "    #dataframe['HOURS']\n",
    "\n",
    "\n",
    "        \n",
    "csv_file_path = 'google_scraped.csv'\n",
    "df = pd.read_csv(csv_file_path, dtype = {'EIN':'str','PHONE':'str'})\n",
    "reorderMyDataFrame(df)\n",
    "\n"
   ]
  },
  {
   "cell_type": "code",
   "execution_count": null,
   "metadata": {},
   "outputs": [],
   "source": []
  }
 ],
 "metadata": {
  "kernelspec": {
   "display_name": "Python 3",
   "language": "python",
   "name": "python3"
  },
  "language_info": {
   "codemirror_mode": {
    "name": "ipython",
    "version": 3
   },
   "file_extension": ".py",
   "mimetype": "text/x-python",
   "name": "python",
   "nbconvert_exporter": "python",
   "pygments_lexer": "ipython3",
   "version": "3.6.0"
  }
 },
 "nbformat": 4,
 "nbformat_minor": 2
}
